{
 "cells": [
  {
   "cell_type": "code",
   "execution_count": null,
   "metadata": {},
   "outputs": [],
   "source": [
    "import pandas as pd\n",
    "import torch\n",
    "from sklearn.model_selection import train_test_split\n",
    "from sklearn.preprocessing import StandardScaler\n",
    "from sklearn.linear_model import LinearRegression\n",
    "import numpy as np\n",
    "import math"
   ]
  },
  {
   "cell_type": "code",
   "execution_count": null,
   "metadata": {},
   "outputs": [],
   "source": [
    "df = pd.read_csv(r\"/content/sample_data/california_housing_train.csv\")\n",
    "df"
   ]
  },
  {
   "cell_type": "code",
   "execution_count": null,
   "metadata": {},
   "outputs": [],
   "source": [
    "def calculate_aic(n, mse, num_params):\n",
    "    return n * np.log(mse) + 2 * num_params"
   ]
  },
  {
   "cell_type": "code",
   "execution_count": null,
   "metadata": {},
   "outputs": [],
   "source": [
    "for i in range(1,9):\n",
    "  X = df.iloc[:,0:i]\n",
    "  y = df.iloc[:, -1]\n",
    "  Sc = StandardScaler()\n",
    "  X = Sc.fit_transform(X)\n",
    "  X_train = torch.FloatTensor(X)\n",
    "  y_train = torch.LongTensor(y.values)\n",
    "  model = LinearRegression()\n",
    "  model.fit(X, y)\n",
    "  rmse = math.sqrt(np.mean((model.predict(X) - y) ** 2))\n",
    "  aic = calculate_aic(len(y), rmse, i)\n",
    "  print(\"aic/1000 @ {} features: {}\".format(i, aic/1000))"
   ]
  },
  {
   "cell_type": "code",
   "execution_count": null,
   "metadata": {},
   "outputs": [],
   "source": [
    "cols = [i for i in df.columns]\n",
    "cols.pop(-1)\n",
    "old_aic = 1000000000\n",
    "features = []\n",
    "for i in cols:\n",
    "  print(\"-\"*40)\n",
    "  features.append(i)\n",
    "  X = df.iloc[:][features]\n",
    "  y = df.iloc[:, -1]\n",
    "  Sc = StandardScaler()\n",
    "  X = Sc.fit_transform(X)\n",
    "  X_train = torch.FloatTensor(X)\n",
    "  y_train = torch.LongTensor(y.values)\n",
    "  model = LinearRegression()\n",
    "  model.fit(X, y)\n",
    "  rmse = math.sqrt(np.mean((model.predict(X) - y) ** 2))\n",
    "  aic = calculate_aic(len(y), rmse, len(features))\n",
    "  if(old_aic >= aic):\n",
    "    old_aic = aic\n",
    "    print(\"favourable feature\")\n",
    "  else:\n",
    "    print(\"unfavourable feature: \")\n",
    "    features.pop(-1)\n",
    "  print(\"Current feature set: \", features)\n",
    "  print(\"aic/1000 @ {}\".format(aic/1000))"
   ]
  }
 ],
 "metadata": {
  "language_info": {
   "name": "python"
  }
 },
 "nbformat": 4,
 "nbformat_minor": 2
}
